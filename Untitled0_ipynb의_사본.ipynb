{
  "nbformat": 4,
  "nbformat_minor": 0,
  "metadata": {
    "colab": {
      "name": "Untitled0.ipynb의 사본",
      "provenance": [],
      "authorship_tag": "ABX9TyM+4sKoJEEc87ERZGZlnhUB",
      "include_colab_link": true
    },
    "kernelspec": {
      "name": "ir",
      "display_name": "R"
    },
    "language_info": {
      "name": "R"
    }
  },
  "cells": [
    {
      "cell_type": "markdown",
      "metadata": {
        "id": "view-in-github",
        "colab_type": "text"
      },
      "source": [
        "<a href=\"https://colab.research.google.com/github/haekyungrosa/haekyungrosa/blob/master/Untitled0_ipynb%EC%9D%98_%EC%82%AC%EB%B3%B8.ipynb\" target=\"_parent\"><img src=\"https://colab.research.google.com/assets/colab-badge.svg\" alt=\"Open In Colab\"/></a>"
      ]
    },
    {
      "cell_type": "markdown",
      "metadata": {
        "id": "HQJSfHPEs7lm"
      },
      "source": [
        "\n",
        "#================================================\n",
        "# 초기 환경변수 설정\n",
        "#================================================"
      ]
    },
    {
      "cell_type": "code",
      "metadata": {
        "id": "mm1WR_oUs7Pz"
      },
      "source": [
        ""
      ],
      "execution_count": null,
      "outputs": []
    },
    {
      "cell_type": "code",
      "metadata": {
        "id": "RwJ0h9RJdHG8"
      },
      "source": [
        "\n",
        "env = \"local\"   # 로컬 : 원도우 환경, 작업환경 (현재 소스 코드 환경 시 .) 설정\n",
        "# env = \"dev\"   # 개발 : 원도우 환경, 작업환경 (사용자 환경 시 contextPath) 설정\n",
        "# env = \"oper\"  # 운영 : 리눅스 환경, 작업환경 (사용자 환경 시 contextPath) 설정\n",
        "\n",
        "prjName = \"UPenn\"\n",
        "serviceName = \"MLR\"\n",
        "contextPath = ifelse(env == \"local\", \".\", getwd())\n",
        "\n",
        "if (env == \"local\") {\n",
        "  globalVar = list(\n",
        "    \"inpPath\" = contextPath\n",
        "    , \"figPath\" = contextPath\n",
        "    , \"outPath\" = contextPath\n",
        "    , \"tmpPath\" = contextPath\n",
        "    , \"logPath\" = contextPath\n",
        "  )\n",
        "} else {\n",
        "  source(here::here(file.path(contextPath, \"src\"), \"InitConfig.R\"), encoding = \"UTF-8\")\n",
        "}"
      ],
      "execution_count": null,
      "outputs": []
    },
    {
      "cell_type": "markdown",
      "metadata": {
        "id": "gDPO8u7ys2tE"
      },
      "source": [
        "#================================================\n",
        "# 함수 정의\n",
        "#================================================"
      ]
    },
    {
      "cell_type": "code",
      "metadata": {
        "id": "xTzO4rdHssHA"
      },
      "source": [
        "\n",
        "\n",
        "perfEval = function(x, y) {\n",
        "  \n",
        "  if (length(x) < 1) { return(sprintf(\"%s\", \"x 값 없음\")) }\n",
        "  if (length(y) < 1) { return(sprintf(\"%s\", \"y 값 없음\")) }\n",
        "  \n",
        "  slope = coef(lm(y ~ x))[2]\n",
        "  interp = coef(lm(y ~ x))[1]\n",
        "  xMean = mean(x, na.rm = TRUE)\n",
        "  yMean = mean(y, na.rm = TRUE)\n",
        "  xSd = sd(x, na.rm = TRUE)\n",
        "  ySd = sd(y, na.rm = TRUE)\n",
        "  cnt = length(x)\n",
        "  bias = mean(x - y, na.rm = TRUE)\n",
        "  rBias = (bias / yMean) * 100.0\n",
        "  rmse = sqrt(mean((x - y)^2, na.rm = TRUE))\n",
        "  rRmse = (rmse / yMean) * 100.0\n",
        "  r = cor.test(x, y)$estimate\n",
        "  p = cor.test(x, y)$p.value\n",
        "  diffMean = mean(x - y, na.rm = TRUE)\n",
        "  diffSd = sd(x - y, na.rm = TRUE)\n",
        "  # perDiffMean = mean((x - y) / y, na.rm = TRUE) * 100.0\n",
        "  \n",
        "  return(c(slope, interp, xMean, yMean, xSd, ySd, cnt, bias, rBias, rmse, rRmse, r))\n",
        "}\n",
        "\n",
        "biasCorr = function(actu, pred, minVal, maxVal, interVal, isPlot = FALSE) {\n",
        "  \n",
        "  factorVal = seq(minVal, maxVal, by = interVal)\n",
        "  \n",
        "  # RMSE Fitting\n",
        "  liResult = lapply(1:length(factorVal), function(i) Metrics::rmse(actu, pred * factorVal[i])) %>%\n",
        "    unlist()\n",
        "  \n",
        "  ind = which(liResult == min(liResult, na.rm = TRUE))\n",
        "  \n",
        "  if (isPlot == TRUE) {\n",
        "    plot(liResult)\n",
        "  }\n",
        "  \n",
        "  # Best Factor Index\n",
        "  ind = which(liResult == min(liResult, na.rm = TRUE))\n",
        "  \n",
        "  calibFactor = factorVal[[ind]]\n",
        "  calPred = calibFactor * pred\n",
        "  \n",
        "  meanDiff = mean(actu, na.rm = TRUE) - mean(calPred, na.rm = TRUE)\n",
        "  newPred = (calPred) + meanDiff\n",
        "  \n",
        "  cat(\n",
        "    sprintf(\"%s : %.2f\", \"[보정 X] RMSE\", Metrics::rmse(actu, pred))\n",
        "    , sprintf(\"%s : %.2f\", \"[보정 O] RMSE\", Metrics::rmse(actu, newPred))\n",
        "    , \"\\n\"\n",
        "  )\n",
        "  \n",
        "  return(c(newPred))\n",
        "}\n"
      ],
      "execution_count": null,
      "outputs": []
    },
    {
      "cell_type": "markdown",
      "metadata": {
        "id": "jPiYTgJotLJt"
      },
      "source": [
        "\n",
        "#================================================\n",
        "# 비즈니스 로직 수행\n",
        "#================================================\n",
        "# 라이브러리 읽기"
      ]
    },
    {
      "cell_type": "code",
      "metadata": {
        "colab": {
          "base_uri": "https://localhost:8080/",
          "height": 894
        },
        "id": "JWhNWLONtLcG",
        "outputId": "7256c4d9-47a4-4db2-af93-c25dd7d78f53"
      },
      "source": [
        "install.packages(\"readxl\")\n",
        "library(readxl);install.packages(\"tidyverse\")\n",
        "library(tidyverse);install.packages(\"ggplot2\")\n",
        "library(ggplot2);install.packages(\"ggmap\")\n",
        "library(ggmap);install.packages(\"lubridate\")\n",
        "library(lubridate);install.packages(\"MASS\")\n",
        "library(MASS);install.packages(\"scales\")\n",
        "library(scales);install.packages(\"dplyr\")\n",
        "library(dplyr);install.packages(\"hrbrthemes\")\n",
        "library(hrbrthemes);install.packages(\"data.table\")\n",
        "library(data.table);install.packages(\"ggpubr\")\n",
        "library(ggpubr);install.packages(\"forcats\")\n",
        "library(forcats);install.packages(\"lubridate\")\n",
        "library(lubridate);install.packages(\"openxlsx\")\n",
        "library(openxlsx);install.packages(\"vroom\")\n",
        "library(vroom);install.packages(\"RQuantLib\")\n",
        "library(RQuantLib);install.packages(\"caret\")\n",
        "library(caret);install.packages(\"tictoc\")\n",
        "library(tictoc);install.packages(\"caret\")\n",
        "library(caret);install.packages(\"glmnet\")\n",
        "library(glmnet);install.packages(\"Metrics\")\n",
        "library(Metrics);install.packages(\"randomForest\")\n",
        "library(randomForest);install.packages(\"mgcv\")\n",
        "library(mgcv);install.packages(\"nima\")\n",
        "library(nima);install.packages(\"h2o\")\n",
        "library(h2o);install.packages(\"stringr\")\n",
        "library(stringr);install.packages(\"ggplvroomot2\")\n",
        "library(vroom);install.packages(\"RQuantLib\")\n",
        "library(RQuantLib)\n"
      ],
      "execution_count": null,
      "outputs": [
        {
          "output_type": "stream",
          "text": [
            "Installing package into ‘/usr/local/lib/R/site-library’\n",
            "(as ‘lib’ is unspecified)\n",
            "\n",
            "Installing package into ‘/usr/local/lib/R/site-library’\n",
            "(as ‘lib’ is unspecified)\n",
            "\n",
            "Installing package into ‘/usr/local/lib/R/site-library’\n",
            "(as ‘lib’ is unspecified)\n",
            "\n",
            "Installing package into ‘/usr/local/lib/R/site-library’\n",
            "(as ‘lib’ is unspecified)\n",
            "\n",
            "also installing the dependencies ‘sp’, ‘RgoogleMaps’, ‘png’, ‘plyr’, ‘rjson’, ‘jpeg’, ‘bitops’\n",
            "\n",
            "\n",
            "Google's Terms of Service: https://cloud.google.com/maps-platform/terms/.\n",
            "\n",
            "Please cite ggmap if you use it! See citation(\"ggmap\") for details.\n",
            "\n",
            "Installing package into ‘/usr/local/lib/R/site-library’\n",
            "(as ‘lib’ is unspecified)\n",
            "\n",
            "Installing package into ‘/usr/local/lib/R/site-library’\n",
            "(as ‘lib’ is unspecified)\n",
            "\n",
            "Installing package into ‘/usr/local/lib/R/site-library’\n",
            "(as ‘lib’ is unspecified)\n",
            "\n",
            "Installing package into ‘/usr/local/lib/R/site-library’\n",
            "(as ‘lib’ is unspecified)\n",
            "\n",
            "Installing package into ‘/usr/local/lib/R/site-library’\n",
            "(as ‘lib’ is unspecified)\n",
            "\n",
            "also installing the dependencies ‘extrafontdb’, ‘Rttf2pt1’, ‘extrafont’, ‘gdtools’\n",
            "\n",
            "\n",
            "Warning message in install.packages(\"hrbrthemes\"):\n",
            "“installation of package ‘gdtools’ had non-zero exit status”\n",
            "Warning message in install.packages(\"hrbrthemes\"):\n",
            "“installation of package ‘hrbrthemes’ had non-zero exit status”\n"
          ],
          "name": "stderr"
        },
        {
          "output_type": "error",
          "ename": "ERROR",
          "evalue": "ignored",
          "traceback": [
            "Error in library(hrbrthemes): there is no package called ‘hrbrthemes’\nTraceback:\n",
            "1. library(hrbrthemes)"
          ]
        },
        {
          "output_type": "stream",
          "text": [
            "Installing package into ‘/usr/local/lib/R/site-library’\n",
            "(as ‘lib’ is unspecified)\n",
            "\n"
          ],
          "name": "stderr"
        }
      ]
    },
    {
      "cell_type": "code",
      "metadata": {
        "colab": {
          "base_uri": "https://localhost:8080/",
          "height": 183
        },
        "id": "slZQklaotl1h",
        "outputId": "4906796e-b7a0-4cd7-a3c3-fe2360077313"
      },
      "source": [
        "# 로그 설정\n",
        "saveLogFile = sprintf(\"%s/%s_%s_%s_%s.log\", globalVar$logPath, Sys.info()[\"sysname\"], Sys.info()[\"nodename\"], prjName, format(Sys.time(), \"%Y%m%d\"))\n",
        "\n",
        "log = log4r::create.logger()\n",
        "log4r::logfile(log) = saveLogFile\n",
        "log4r::level(log) = \"INFO\"\n",
        "\n",
        "# 검증 지수 테이블 생성\n",
        "rowNum = 1\n",
        "colNum = 3\n",
        "perfTableMLR = data.frame(matrix(0, nrow = rowNum * colNum, ncol = 12))\n",
        "rownames(perfTableMLR) = c(\"MLRELC\", \"MLRSTM\", \"MLRCHW\")\n",
        "# rownames(perfTableMLR) = c(\n",
        "#   paste0(\"MLR-\", 1:rowNum), paste0(\"RF-\", 1:rowNum), paste0(\"GAM-\", 1:rowNum)\n",
        "#   , paste0(\"SARIMA-\", 1:rowNum), paste0(\"SVM-\", 1:rowNum), paste0(\"DNN-\", 1:rowNum)\n",
        "# )\n",
        "colnames(perfTableMLR) = c(\"slope\", \"interp\", \"xMean\", \"yMean\", \"xSd\", \"ySd\", \"cnt\", \"bias\", \"rBias\", \"rmse\", \"rRmse\", \"r\")\n"
      ],
      "execution_count": null,
      "outputs": [
        {
          "output_type": "error",
          "ename": "ERROR",
          "evalue": "ignored",
          "traceback": [
            "Error in loadNamespace(x): there is no package called ‘log4r’\nTraceback:\n",
            "1. loadNamespace(x)",
            "2. withRestarts(stop(cond), retry_loadNamespace = function() NULL)",
            "3. withOneRestart(expr, restarts[[1L]])",
            "4. doWithOneRestart(return(expr), restart)"
          ]
        }
      ]
    },
    {
      "cell_type": "code",
      "metadata": {
        "id": "pdBdQS_4x7fm"
      },
      "source": [
        "\n",
        "# 데이터 읽기\n",
        "fileInfoCHW = Sys.glob(paste(globalVar$inpPath, \"data/PAhourlyCHW.csv\", sep = \"/\"))\n",
        "\n",
        "dataCHW = vroom::vroom(\n",
        "  file = fileInfoCHW\n",
        "  , col_select = c(YMDH, Uvalue_Wall, Uvalue_Window, Uvalue_Roof, WWR, Height, Year.y, AgeAfterRenov, Equipment, Lighting, Solar, HD, CD, Humidity, Pressure, WindSpeed, type2, CHWEUI)\n",
        "  , col_names = TRUE\n",
        ")\n",
        "\n",
        "# PAHourlyCHW = data.table::fread(file = fileInfoCHW)\n",
        "# RQuantLib::isBusinessDay(\"UnitedStates/NYSE\", seq(from=lubridate::as_date(min(dataCHW$YMDH, na.rm = TRUE)), to=lubridate::as_date(max(dataCHW$YMDH, na.rm = TRUE)), by=1))\n",
        "# dataCHW$type2 %>% unique() %>% sort()\n"
      ],
      "execution_count": null,
      "outputs": []
    },
    {
      "cell_type": "code",
      "metadata": {
        "colab": {
          "base_uri": "https://localhost:8080/",
          "height": 1000
        },
        "id": "3tuZzB4IyI5_",
        "outputId": "eb05d88f-8545-456d-cac0-7b29f0360189"
      },
      "source": [
        "\n",
        "dataCHWL1 = dataCHW %>%\n",
        "  dplyr::mutate(\n",
        "    isType2 = dplyr::case_when(\n",
        "      # type2 %in% c(\"Education\", \"Lab\", \"Lodge\", \"office \", \"public\")\n",
        "      stringr::str_detect(type2, regex(\"Education|Lab|Lodge|office|public\")) ~ TRUE\n",
        "      , TRUE ~ FALSE\n",
        "    )\n",
        "  ) %>% \n",
        "  dplyr::filter(\n",
        "    0.01 < WWR & WWR < 0.9\n",
        "    , isType2 == TRUE\n",
        "  ) %>%\n",
        "  dplyr::mutate(\n",
        "    nMonth = lubridate::month(YMDH)\n",
        "    , nDay = lubridate::day(YMDH)\n",
        "    , nHour = lubridate::hour(YMDH)\n",
        "    , refYmd = lubridate::make_date(year = 2000, month = nMonth, day = nDay)\n",
        "    \n",
        "    #  교호작용 변수\n",
        "    , interTerm1 = Uvalue_Wall * WWR\n",
        "    , interTerm2 = Uvalue_Window * WWR\n",
        "    , interTerm3 = Year.y * AgeAfterRenov\n",
        "    \n",
        "    , isTrainValid = dplyr::between(lubridate::as_date(YMDH), lubridate::date(\"2015-07-01\"), lubridate::date(\"2016-07-01\"))\n",
        "    \n",
        "    # 펜실레니아 근처 뉴욕 기준으로 비즈니스 여부 판단\n",
        "    # , isBizDay = bizdays::is.bizday(YMDH, \"QuantLib/UnitedStates/NYSE\")\n",
        "    , isBizDay = RQuantLib::isBusinessDay(\"UnitedStates/NYSE\", lubridate::as_date(YMDH))\n",
        "    \n",
        "    , seasonType = dplyr::case_when(\n",
        "      dplyr::between(refYmd, lubridate::date(\"2000-01-13\"), lubridate::date(\"2000-05-10\")) ~ \"spring\"\n",
        "      , dplyr::between(refYmd, lubridate::date(\"2000-05-11\"), lubridate::date(\"2000-08-25\")) ~ \"summer\"\n",
        "      , dplyr::between(refYmd, lubridate::date(\"2000-08-26\"), lubridate::date(\"2000-12-18\")) ~ \"fall\"\n",
        "      , lubridate::date(\"2000-12-19\") <= refYmd | refYmd <= lubridate::date(\"2000-01-12\") ~ \"winter\"\n",
        "    )\n",
        "    \n",
        "    , bizDayType =  dplyr::case_when(\n",
        "      isBizDay == TRUE ~ \"Business day\"\n",
        "      , isBizDay == FALSE ~ \"non-business day\"\n",
        "    )\n",
        "    \n",
        "    , hourType = dplyr::case_when(\n",
        "      dplyr::between(nHour, 7, 17) ~ \"working\"\n",
        "      , 17 < nHour & nHour <= 22 ~ \"evening\"\n",
        "      , 22 < nHour | nHour < 7 ~ \"night\"\n",
        "    )\n",
        "  ) %>% \n",
        "  dplyr::mutate_if(is.character, as.factor)\n",
        "\n",
        "# dplyr::select(YMDH, nMonth, nDay, nHour, WWR, refYmd, hourType, businessDay, seasonType)\n",
        "# dplyr::tbl_df(dataCHWL1)\n",
        "\n",
        "summary(dataCHWL1)"
      ],
      "execution_count": null,
      "outputs": [
        {
          "output_type": "error",
          "ename": "ERROR",
          "evalue": "ignored",
          "traceback": [
            "Error: Problem with `mutate()` column `isType2`.\n\u001b[34mℹ\u001b[39m `isType2 = dplyr::case_when(...)`.\n\u001b[31m✖\u001b[39m object 'type2' not found\nTraceback:\n",
            "1. dataCHW %>% dplyr::mutate(isType2 = dplyr::case_when(stringr::str_detect(type2, \n .     regex(\"Education|Lab|Lodge|office|public\")) ~ TRUE, TRUE ~ \n .     FALSE)) %>% dplyr::filter(0.01 < WWR & WWR < 0.9, isType2 == \n .     TRUE) %>% dplyr::mutate(nMonth = lubridate::month(YMDH), \n .     nDay = lubridate::day(YMDH), nHour = lubridate::hour(YMDH), \n .     refYmd = lubridate::make_date(year = 2000, month = nMonth, \n .         day = nDay), interTerm1 = Uvalue_Wall * WWR, interTerm2 = Uvalue_Window * \n .         WWR, interTerm3 = Year.y * AgeAfterRenov, isTrainValid = dplyr::between(lubridate::as_date(YMDH), \n .         lubridate::date(\"2015-07-01\"), lubridate::date(\"2016-07-01\")), \n .     isBizDay = RQuantLib::isBusinessDay(\"UnitedStates/NYSE\", \n .         lubridate::as_date(YMDH)), seasonType = dplyr::case_when(dplyr::between(refYmd, \n .         lubridate::date(\"2000-01-13\"), lubridate::date(\"2000-05-10\")) ~ \n .         \"spring\", dplyr::between(refYmd, lubridate::date(\"2000-05-11\"), \n .         lubridate::date(\"2000-08-25\")) ~ \"summer\", dplyr::between(refYmd, \n .         lubridate::date(\"2000-08-26\"), lubridate::date(\"2000-12-18\")) ~ \n .         \"fall\", lubridate::date(\"2000-12-19\") <= refYmd | refYmd <= \n .         lubridate::date(\"2000-01-12\") ~ \"winter\"), bizDayType = dplyr::case_when(isBizDay == \n .         TRUE ~ \"Business day\", isBizDay == FALSE ~ \"non-business day\"), \n .     hourType = dplyr::case_when(dplyr::between(nHour, 7, 17) ~ \n .         \"working\", 17 < nHour & nHour <= 22 ~ \"evening\", 22 < \n .         nHour | nHour < 7 ~ \"night\")) %>% dplyr::mutate_if(is.character, \n .     as.factor)",
            "2. dplyr::mutate_if(., is.character, as.factor)",
            "3. check_grouped(.tbl, \"mutate\", \"if\")",
            "4. is_grouped_df(tbl)",
            "5. dplyr::mutate(., nMonth = lubridate::month(YMDH), nDay = lubridate::day(YMDH), \n .     nHour = lubridate::hour(YMDH), refYmd = lubridate::make_date(year = 2000, \n .         month = nMonth, day = nDay), interTerm1 = Uvalue_Wall * \n .         WWR, interTerm2 = Uvalue_Window * WWR, interTerm3 = Year.y * \n .         AgeAfterRenov, isTrainValid = dplyr::between(lubridate::as_date(YMDH), \n .         lubridate::date(\"2015-07-01\"), lubridate::date(\"2016-07-01\")), \n .     isBizDay = RQuantLib::isBusinessDay(\"UnitedStates/NYSE\", \n .         lubridate::as_date(YMDH)), seasonType = dplyr::case_when(dplyr::between(refYmd, \n .         lubridate::date(\"2000-01-13\"), lubridate::date(\"2000-05-10\")) ~ \n .         \"spring\", dplyr::between(refYmd, lubridate::date(\"2000-05-11\"), \n .         lubridate::date(\"2000-08-25\")) ~ \"summer\", dplyr::between(refYmd, \n .         lubridate::date(\"2000-08-26\"), lubridate::date(\"2000-12-18\")) ~ \n .         \"fall\", lubridate::date(\"2000-12-19\") <= refYmd | refYmd <= \n .         lubridate::date(\"2000-01-12\") ~ \"winter\"), bizDayType = dplyr::case_when(isBizDay == \n .         TRUE ~ \"Business day\", isBizDay == FALSE ~ \"non-business day\"), \n .     hourType = dplyr::case_when(dplyr::between(nHour, 7, 17) ~ \n .         \"working\", 17 < nHour & nHour <= 22 ~ \"evening\", 22 < \n .         nHour | nHour < 7 ~ \"night\"))",
            "6. dplyr::filter(., 0.01 < WWR & WWR < 0.9, isType2 == TRUE)",
            "7. dplyr::mutate(., isType2 = dplyr::case_when(stringr::str_detect(type2, \n .     regex(\"Education|Lab|Lodge|office|public\")) ~ TRUE, TRUE ~ \n .     FALSE))",
            "8. mutate.data.frame(., isType2 = dplyr::case_when(stringr::str_detect(type2, \n .     regex(\"Education|Lab|Lodge|office|public\")) ~ TRUE, TRUE ~ \n .     FALSE))",
            "9. mutate_cols(.data, ..., caller_env = caller_env())",
            "10. withCallingHandlers({\n  .     for (i in seq_along(dots)) {\n  .         mask$across_cache_reset()\n  .         context_poke(\"column\", old_current_column)\n  .         quosures <- expand_across(dots[[i]])\n  .         quosures_results <- vector(mode = \"list\", length = length(quosures))\n  .         for (k in seq_along(quosures)) {\n  .             quo <- quosures[[k]]\n  .             quo_data <- attr(quo, \"dplyr:::data\")\n  .             if (!is.null(quo_data$column)) {\n  .                 context_poke(\"column\", quo_data$column)\n  .             }\n  .             chunks <- NULL\n  .             result <- NULL\n  .             if (quo_is_symbol(quo)) {\n  .                 name <- as_string(quo_get_expr(quo))\n  .                 if (name %in% names(new_columns)) {\n  .                   result <- new_columns[[name]]\n  .                   chunks <- mask$resolve(name)\n  .                 }\n  .                 else if (name %in% names(.data)) {\n  .                   result <- .data[[name]]\n  .                   chunks <- mask$resolve(name)\n  .                 }\n  .                 if (inherits(.data, \"rowwise_df\") && vec_is_list(result)) {\n  .                   sizes <- list_sizes(result)\n  .                   wrong <- which(sizes != 1)\n  .                   if (length(wrong)) {\n  .                     group <- wrong[1L]\n  .                     mask$set_current_group(group)\n  .                     abort(x_size = sizes[group], class = \"dplyr:::mutate_incompatible_size\")\n  .                   }\n  .                 }\n  .             }\n  .             if (is.null(chunks)) {\n  .                 chunks <- mask$eval_all_mutate(quo)\n  .             }\n  .             if (is.null(chunks)) {\n  .                 next\n  .             }\n  .             if (is.null(result)) {\n  .                 if (length(rows) == 1) {\n  .                   result <- chunks[[1]]\n  .                 }\n  .                 else {\n  .                   result <- withCallingHandlers(vec_unchop(chunks <- vec_cast_common(!!!chunks), \n  .                     rows), vctrs_error_incompatible_type = function(cnd) {\n  .                     abort(class = \"dplyr:::error_mutate_incompatible_combine\", \n  .                       parent = cnd)\n  .                   })\n  .                 }\n  .             }\n  .             quosures_results[[k]] <- list(result = result, chunks = chunks)\n  .         }\n  .         for (k in seq_along(quosures)) {\n  .             quo <- quosures[[k]]\n  .             quo_data <- attr(quo, \"dplyr:::data\")\n  .             quo_result <- quosures_results[[k]]\n  .             if (is.null(quo_result)) {\n  .                 if (quo_data$is_named) {\n  .                   name <- quo_data$name_given\n  .                   new_columns[[name]] <- zap()\n  .                   mask$remove(name)\n  .                 }\n  .                 next\n  .             }\n  .             result <- quo_result$result\n  .             chunks <- quo_result$chunks\n  .             if (!quo_data$is_named && is.data.frame(result)) {\n  .                 new_columns[names(result)] <- result\n  .                 mask$add_many(result, chunks)\n  .             }\n  .             else {\n  .                 name <- quo_data$name_auto\n  .                 new_columns[[name]] <- result\n  .                 mask$add_one(name, chunks)\n  .             }\n  .         }\n  .     }\n  . }, error = function(e) {\n  .     local_call_step(dots = dots, .index = i, .fn = \"mutate\", \n  .         .dot_data = inherits(e, \"rlang_error_data_pronoun_not_found\"))\n  .     call_step_envir <- peek_call_step()\n  .     error_name <- call_step_envir$error_name\n  .     error_expression <- call_step_envir$error_expression\n  .     show_group_details <- TRUE\n  .     if (inherits(e, \"dplyr:::mutate_incompatible_size\")) {\n  .         size <- vec_size(rows[[mask$get_current_group()]])\n  .         x_size <- e$x_size\n  .         bullets <- c(i = cnd_bullet_column_info(), i = glue(\"`{error_name}` must be size {or_1(size)}, not {x_size}.\"), \n  .             i = cnd_bullet_rowwise_unlist())\n  .     }\n  .     else if (inherits(e, \"dplyr:::mutate_mixed_null\")) {\n  .         show_group_details <- FALSE\n  .         bullets <- c(i = cnd_bullet_column_info(), x = glue(\"`{error_name}` must return compatible vectors across groups.\"), \n  .             i = \"Cannot combine NULL and non NULL results.\", \n  .             i = cnd_bullet_rowwise_unlist())\n  .     }\n  .     else if (inherits(e, \"dplyr:::mutate_not_vector\")) {\n  .         bullets <- c(i = cnd_bullet_column_info(), x = glue(\"`{error_name}` must be a vector, not {friendly_type_of(e$result)}.\"), \n  .             i = cnd_bullet_rowwise_unlist())\n  .     }\n  .     else if (inherits(e, \"dplyr:::error_mutate_incompatible_combine\")) {\n  .         show_group_details <- FALSE\n  .         bullets <- c(i = cnd_bullet_column_info(), x = glue(\"`{error_name}` must return compatible vectors across groups\"), \n  .             i = cnd_bullet_combine_details(e$parent$x, e$parent$x_arg), \n  .             i = cnd_bullet_combine_details(e$parent$y, e$parent$y_arg))\n  .     }\n  .     else {\n  .         bullets <- c(i = cnd_bullet_column_info(), x = conditionMessage(e))\n  .     }\n  .     bullets <- c(cnd_bullet_header(), bullets, i = if (show_group_details) cnd_bullet_cur_group_label())\n  .     abort(bullets, class = c(\"dplyr:::mutate_error\", \"dplyr_error\"), \n  .         error_name = error_name, error_expression = error_expression, \n  .         parent = e, bullets = bullets)\n  . }, warning = function(w) {\n  .     if (check_muffled_warning(w)) {\n  .         maybe_restart(\"muffleWarning\")\n  .     }\n  .     local_call_step(dots = dots, .index = i, .fn = \"mutate\")\n  .     warn(c(cnd_bullet_header(), i = cnd_bullet_column_info(), \n  .         i = conditionMessage(w), i = cnd_bullet_cur_group_label(what = \"warning\")))\n  .     maybe_restart(\"muffleWarning\")\n  . })",
            "11. mask$eval_all_mutate(quo)",
            "12. dplyr::case_when(stringr::str_detect(type2, regex(\"Education|Lab|Lodge|office|public\")) ~ \n  .     TRUE, TRUE ~ FALSE)",
            "13. eval_tidy(pair$lhs, env = default_env)",
            "14. stringr::str_detect(type2, regex(\"Education|Lab|Lodge|office|public\"))",
            "15. stri_detect_regex(string, pattern, negate = negate, opts_regex = opts(pattern))",
            "16. .handleSimpleError(function (e) \n  . {\n  .     local_call_step(dots = dots, .index = i, .fn = \"mutate\", \n  .         .dot_data = inherits(e, \"rlang_error_data_pronoun_not_found\"))\n  .     call_step_envir <- peek_call_step()\n  .     error_name <- call_step_envir$error_name\n  .     error_expression <- call_step_envir$error_expression\n  .     show_group_details <- TRUE\n  .     if (inherits(e, \"dplyr:::mutate_incompatible_size\")) {\n  .         size <- vec_size(rows[[mask$get_current_group()]])\n  .         x_size <- e$x_size\n  .         bullets <- c(i = cnd_bullet_column_info(), i = glue(\"`{error_name}` must be size {or_1(size)}, not {x_size}.\"), \n  .             i = cnd_bullet_rowwise_unlist())\n  .     }\n  .     else if (inherits(e, \"dplyr:::mutate_mixed_null\")) {\n  .         show_group_details <- FALSE\n  .         bullets <- c(i = cnd_bullet_column_info(), x = glue(\"`{error_name}` must return compatible vectors across groups.\"), \n  .             i = \"Cannot combine NULL and non NULL results.\", \n  .             i = cnd_bullet_rowwise_unlist())\n  .     }\n  .     else if (inherits(e, \"dplyr:::mutate_not_vector\")) {\n  .         bullets <- c(i = cnd_bullet_column_info(), x = glue(\"`{error_name}` must be a vector, not {friendly_type_of(e$result)}.\"), \n  .             i = cnd_bullet_rowwise_unlist())\n  .     }\n  .     else if (inherits(e, \"dplyr:::error_mutate_incompatible_combine\")) {\n  .         show_group_details <- FALSE\n  .         bullets <- c(i = cnd_bullet_column_info(), x = glue(\"`{error_name}` must return compatible vectors across groups\"), \n  .             i = cnd_bullet_combine_details(e$parent$x, e$parent$x_arg), \n  .             i = cnd_bullet_combine_details(e$parent$y, e$parent$y_arg))\n  .     }\n  .     else {\n  .         bullets <- c(i = cnd_bullet_column_info(), x = conditionMessage(e))\n  .     }\n  .     bullets <- c(cnd_bullet_header(), bullets, i = if (show_group_details) cnd_bullet_cur_group_label())\n  .     abort(bullets, class = c(\"dplyr:::mutate_error\", \"dplyr_error\"), \n  .         error_name = error_name, error_expression = error_expression, \n  .         parent = e, bullets = bullets)\n  . }, \"object 'type2' not found\", base::quote(stri_detect_regex(string, \n  .     pattern, negate = negate, opts_regex = opts(pattern))))",
            "17. h(simpleError(msg, call))",
            "18. abort(bullets, class = c(\"dplyr:::mutate_error\", \"dplyr_error\"), \n  .     error_name = error_name, error_expression = error_expression, \n  .     parent = e, bullets = bullets)",
            "19. signal_abort(cnd)"
          ]
        }
      ]
    },
    {
      "cell_type": "markdown",
      "metadata": {
        "id": "xQsOKY3OyL1J"
      },
      "source": [
        "#*******************************************\n",
        "# 모형 구성\n",
        "#*******************************************"
      ]
    },
    {
      "cell_type": "code",
      "metadata": {
        "colab": {
          "base_uri": "https://localhost:8080/",
          "height": 183
        },
        "id": "5wJA9pWVyKPq",
        "outputId": "c7d7a1ad-683f-4d76-8de5-df091fa9fd6b"
      },
      "source": [
        "dataCHWL2 = dataCHWL1 %>% \n",
        "  dplyr::select(-c(YMDH, nMonth, nDay, nHour, refYmd, isTrainValid, isBizDay, isType2))\n",
        "\n",
        "# 선형회귀분석\n",
        "lmFit = lm(CHWEUI ~ ., data = dataCHWL2)\n",
        "summary(lmFit)\n",
        "\n",
        "# plot(lmFit)\n",
        "\n",
        "# 단계별 소거법\n",
        "lmFitStep = MASS::stepAIC(lmFit, direction = \"both\")\n",
        "summary(lmFitStep)\n",
        "\n",
        "# 독립변수 및 종속변수 선정\n",
        "# modelForm = as.formula(lmFit$call$formula)\n",
        "modelForm = as.formula(lmFitStep$call$formula)\n",
        "\n",
        "modelFormSep = modelForm %>% paste(sep = \" ~ \") \n",
        "modelFormY = modelFormSep[2]\n",
        "modelFormX = modelFormSep[3] %>% stringr::str_split(\" \\\\+ \") %>% unlist()\n"
      ],
      "execution_count": null,
      "outputs": [
        {
          "output_type": "error",
          "ename": "ERROR",
          "evalue": "ignored",
          "traceback": [
            "Error in dplyr::select(., -c(YMDH, nMonth, nDay, nHour, refYmd, isTrainValid, : object 'dataCHWL1' not found\nTraceback:\n",
            "1. dataCHWL1 %>% dplyr::select(-c(YMDH, nMonth, nDay, nHour, refYmd, \n .     isTrainValid, isBizDay, isType2))",
            "2. dplyr::select(., -c(YMDH, nMonth, nDay, nHour, refYmd, isTrainValid, \n .     isBizDay, isType2))"
          ]
        }
      ]
    },
    {
      "cell_type": "markdown",
      "metadata": {
        "id": "8a9CFARAySKZ"
      },
      "source": [
        "#*******************************************\n",
        "# 훈련/검증/테스트 셋 설정\n",
        "#*******************************************"
      ]
    },
    {
      "cell_type": "code",
      "metadata": {
        "colab": {
          "base_uri": "https://localhost:8080/",
          "height": 201
        },
        "id": "0Ot8_VBdyWo0",
        "outputId": "9007e455-11fe-4dc7-8472-51d595dd9c2d"
      },
      "source": [
        "set.seed(1)\n",
        "\n",
        "traindataCHW = dataCHWL1 %>% \n",
        "  dplyr::filter(isTrainValid == TRUE) %>% \n",
        "  dplyr::select(-c(YMDH, nMonth, nDay, nHour, refYmd, isTrainValid, isBizDay, isType2))\n",
        "\n",
        "# 테스트용\n",
        "# traindataCHW = traindataCHW %>% \n",
        "# dplyr::sample_n(1000)\n",
        "\n",
        "# 훈련 데이터셋 확인\n",
        "dplyr::tbl_df(traindataCHW)\n",
        "\n",
        "# 해당 인덱스에 따라 자료 할당\n",
        "# traindataCHW = dataCHWL3[idx, ]\n",
        "# validdataCHW = dataCHWL3[-idx, ]\n",
        "\n",
        "testdataCHW = dataCHWL1 %>% \n",
        "  dplyr::filter(isTrainValid == FALSE) %>% \n",
        "  dplyr::select(-c(YMDH, nMonth, nDay, nHour, refYmd, isTrainValid, isBizDay, isType2))\n",
        "\n",
        "# 테스트 데이터셋 확인\n",
        "dplyr::tbl_df(testdataCHW)"
      ],
      "execution_count": null,
      "outputs": [
        {
          "output_type": "error",
          "ename": "ERROR",
          "evalue": "ignored",
          "traceback": [
            "Error in dplyr::filter(., isTrainValid == TRUE): object 'dataCHWL1' not found\nTraceback:\n",
            "1. dataCHWL1 %>% dplyr::filter(isTrainValid == TRUE) %>% dplyr::select(-c(YMDH, \n .     nMonth, nDay, nHour, refYmd, isTrainValid, isBizDay, isType2))",
            "2. dplyr::select(., -c(YMDH, nMonth, nDay, nHour, refYmd, isTrainValid, \n .     isBizDay, isType2))",
            "3. dplyr::filter(., isTrainValid == TRUE)"
          ]
        }
      ]
    },
    {
      "cell_type": "markdown",
      "metadata": {
        "id": "K3kXtKCpyeDx"
      },
      "source": [
        "\n",
        "#**********************************************************\n",
        "# 학습 파라미터 설정\n",
        "#**********************************************************\n",
        "# method : 데이터 샘플링 기법로서  boot(부트스트래핑), boot632(부트스트래핑의 개선된 버전), cv(교차 검증), repeatedcv(교차 검증의 반복), LOOCV(Leave One Out Cross Validation) \n",
        "# repeats : 데이터 샘플링 반복 횟수\n",
        "# number : 분할 횟수 \n"
      ]
    },
    {
      "cell_type": "code",
      "metadata": {
        "colab": {
          "base_uri": "https://localhost:8080/",
          "height": 183
        },
        "id": "QKRD88wbygZp",
        "outputId": "408cfe9e-bb6e-4f81-8c93-2563221016a2"
      },
      "source": [
        "controlInfo = caret::trainControl(\n",
        "  method = 'repeatedcv'\n",
        "  , repeats = 10\n",
        "  , number = 10\n",
        "  , p = 0.8\n",
        ")\n"
      ],
      "execution_count": null,
      "outputs": [
        {
          "output_type": "error",
          "ename": "ERROR",
          "evalue": "ignored",
          "traceback": [
            "Error in loadNamespace(x): there is no package called ‘caret’\nTraceback:\n",
            "1. loadNamespace(x)",
            "2. withRestarts(stop(cond), retry_loadNamespace = function() NULL)",
            "3. withOneRestart(expr, restarts[[1L]])",
            "4. doWithOneRestart(return(expr), restart)"
          ]
        }
      ]
    },
    {
      "cell_type": "code",
      "metadata": {
        "colab": {
          "base_uri": "https://localhost:8080/",
          "height": 183
        },
        "id": "8TMvR2SjyjVv",
        "outputId": "483127db-ab50-44d1-ac19-4a9eabd74646"
      },
      "source": [
        "# 모델 학습\n",
        "mlrModelCHW = caret::train(\n",
        "  form = modelForm\n",
        "  , data = traindataCHW\n",
        "  , method = \"lm\"\n",
        "  , preProc = c(\"center\", \"scale\")\n",
        "  , metric = \"RMSE\"\n",
        "  , tuneGrid = expand.grid(\n",
        "    intercept = c(TRUE, FALSE)\n",
        "  )\n",
        "  , trControl = controlInfo\n",
        ")\n",
        "\n",
        "saveImg = sprintf(\"%s/%s_%s.png\", globalVar$figPath, serviceName, \"MLR CHW RMSE Results\")\n",
        "\n",
        "ggplot(mlrModelCHW) +\n",
        "  theme(text = element_text(size = 18)) +\n",
        "  ggsave(filename = saveImg, width = 10, height = 6, dpi = 600)\n",
        "\n",
        "# 최적 모형의 회귀계수\n",
        "mlrModelCHW$finalModel \n",
        "\n",
        "# 모델 검증\n",
        "perfTableMLR[\"MLRCHW\", ] = perfEval(\n",
        "  predict(mlrModelCHW, newdata = testdataCHW)\n",
        "  , testdataCHW$CHWEUI\n",
        ") %>% \n",
        "  round(2)\n",
        "perfTableMLR"
      ],
      "execution_count": null,
      "outputs": [
        {
          "output_type": "error",
          "ename": "ERROR",
          "evalue": "ignored",
          "traceback": [
            "Error in loadNamespace(x): there is no package called ‘caret’\nTraceback:\n",
            "1. loadNamespace(x)",
            "2. withRestarts(stop(cond), retry_loadNamespace = function() NULL)",
            "3. withOneRestart(expr, restarts[[1L]])",
            "4. doWithOneRestart(return(expr), restart)"
          ]
        }
      ]
    }
  ]
}